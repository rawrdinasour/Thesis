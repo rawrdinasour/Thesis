{
 "cells": [
  {
   "cell_type": "code",
   "execution_count": 1,
   "metadata": {},
   "outputs": [],
   "source": [
    "import pandas as pd"
   ]
  },
  {
   "cell_type": "code",
   "execution_count": 2,
   "metadata": {},
   "outputs": [],
   "source": [
    "df = pd.read_pickle(\"gold_standard\")"
   ]
  },
  {
   "cell_type": "code",
   "execution_count": 3,
   "metadata": {},
   "outputs": [
    {
     "data": {
      "text/html": [
       "<div>\n",
       "<style scoped>\n",
       "    .dataframe tbody tr th:only-of-type {\n",
       "        vertical-align: middle;\n",
       "    }\n",
       "\n",
       "    .dataframe tbody tr th {\n",
       "        vertical-align: top;\n",
       "    }\n",
       "\n",
       "    .dataframe thead th {\n",
       "        text-align: right;\n",
       "    }\n",
       "</style>\n",
       "<table border=\"1\" class=\"dataframe\">\n",
       "  <thead>\n",
       "    <tr style=\"text-align: right;\">\n",
       "      <th></th>\n",
       "      <th>author</th>\n",
       "      <th>created_utc</th>\n",
       "      <th>created</th>\n",
       "      <th>url</th>\n",
       "      <th>selftext</th>\n",
       "      <th>title</th>\n",
       "      <th>tag_loyd</th>\n",
       "      <th>tag_jerome</th>\n",
       "      <th>tag_mer</th>\n",
       "      <th>final</th>\n",
       "    </tr>\n",
       "  </thead>\n",
       "  <tbody>\n",
       "    <tr>\n",
       "      <th>0</th>\n",
       "      <td>undergroundagent2</td>\n",
       "      <td>1597591161</td>\n",
       "      <td>1597562361</td>\n",
       "      <td>https://www.reddit.com/r/abuse/comments/iau3kh...</td>\n",
       "      <td>Have you or someone you know been a victim to...</td>\n",
       "      <td>join the underground railroad</td>\n",
       "      <td>0</td>\n",
       "      <td>0.0</td>\n",
       "      <td>0</td>\n",
       "      <td>W</td>\n",
       "    </tr>\n",
       "    <tr>\n",
       "      <th>1</th>\n",
       "      <td>Maniacalmind0000</td>\n",
       "      <td>1597584684</td>\n",
       "      <td>1597555884</td>\n",
       "      <td>https://www.reddit.com/r/abuse/comments/iasdhp...</td>\n",
       "      <td>So I've been with my husband for three years a...</td>\n",
       "      <td>I don‚Äôt know what to do</td>\n",
       "      <td>1</td>\n",
       "      <td>1.0</td>\n",
       "      <td>1</td>\n",
       "      <td>U</td>\n",
       "    </tr>\n",
       "    <tr>\n",
       "      <th>2</th>\n",
       "      <td>blackoutjason1</td>\n",
       "      <td>1597584355</td>\n",
       "      <td>1597555555</td>\n",
       "      <td>https://www.reddit.com/r/abuse/comments/iasavg...</td>\n",
       "      <td>Did anyone else after different types of abuse...</td>\n",
       "      <td>Imagining and Fearing the Worst</td>\n",
       "      <td>1</td>\n",
       "      <td>1.0</td>\n",
       "      <td>1</td>\n",
       "      <td>U</td>\n",
       "    </tr>\n",
       "    <tr>\n",
       "      <th>5</th>\n",
       "      <td>playingintheocean</td>\n",
       "      <td>1597571289</td>\n",
       "      <td>1597542489</td>\n",
       "      <td>https://www.reddit.com/r/abuse/comments/iapph8...</td>\n",
       "      <td>I have been suffering abuse for 10+ years. I'm...</td>\n",
       "      <td>Advice for talking someone out of their abusiv...</td>\n",
       "      <td>1</td>\n",
       "      <td>1.0</td>\n",
       "      <td>1</td>\n",
       "      <td>U</td>\n",
       "    </tr>\n",
       "    <tr>\n",
       "      <th>6</th>\n",
       "      <td>playingintheocean</td>\n",
       "      <td>1597571111</td>\n",
       "      <td>1597542311</td>\n",
       "      <td>https://www.reddit.com/r/abuse/comments/iapoda...</td>\n",
       "      <td>I have been suffering abuse for 10+ years. I'm...</td>\n",
       "      <td>Advice for helping someone out of their abusiv...</td>\n",
       "      <td>1</td>\n",
       "      <td>1.0</td>\n",
       "      <td>1</td>\n",
       "      <td>U</td>\n",
       "    </tr>\n",
       "    <tr>\n",
       "      <th>...</th>\n",
       "      <td>...</td>\n",
       "      <td>...</td>\n",
       "      <td>...</td>\n",
       "      <td>...</td>\n",
       "      <td>...</td>\n",
       "      <td>...</td>\n",
       "      <td>...</td>\n",
       "      <td>...</td>\n",
       "      <td>...</td>\n",
       "      <td>...</td>\n",
       "    </tr>\n",
       "    <tr>\n",
       "      <th>2990</th>\n",
       "      <td>throwawaycp97</td>\n",
       "      <td>1587751168</td>\n",
       "      <td>1587722368</td>\n",
       "      <td>https://www.reddit.com/r/abuse/comments/g7d5z6...</td>\n",
       "      <td>married a guy who I thought was the love of m...</td>\n",
       "      <td>Giving your all to someone</td>\n",
       "      <td>1</td>\n",
       "      <td>1.0</td>\n",
       "      <td>1</td>\n",
       "      <td>U</td>\n",
       "    </tr>\n",
       "    <tr>\n",
       "      <th>2992</th>\n",
       "      <td>morganpaige7116</td>\n",
       "      <td>1587742778</td>\n",
       "      <td>1587713978</td>\n",
       "      <td>https://www.reddit.com/r/abuse/comments/g7akkl...</td>\n",
       "      <td>My child's (2M) father (23M) is extremely toxi...</td>\n",
       "      <td>My child‚Äôs father is dangerous</td>\n",
       "      <td>1</td>\n",
       "      <td>1.0</td>\n",
       "      <td>1</td>\n",
       "      <td>U</td>\n",
       "    </tr>\n",
       "    <tr>\n",
       "      <th>2996</th>\n",
       "      <td>RoastbeeHead</td>\n",
       "      <td>1587734116</td>\n",
       "      <td>1587705316</td>\n",
       "      <td>https://www.reddit.com/r/abuse/comments/g7869t...</td>\n",
       "      <td>Are there any agencies - other than CPS or the...</td>\n",
       "      <td>Who to call for a welfare check on a family th...</td>\n",
       "      <td>1</td>\n",
       "      <td>1.0</td>\n",
       "      <td>1</td>\n",
       "      <td>U</td>\n",
       "    </tr>\n",
       "    <tr>\n",
       "      <th>2997</th>\n",
       "      <td>HugoCaldeira19902</td>\n",
       "      <td>1587733732</td>\n",
       "      <td>1587704932</td>\n",
       "      <td>https://www.reddit.com/r/abuse/comments/g782uu...</td>\n",
       "      <td>so my online friend adelia having really a tra...</td>\n",
       "      <td>my online friend is having a tragedy life</td>\n",
       "      <td>1</td>\n",
       "      <td>1.0</td>\n",
       "      <td>1</td>\n",
       "      <td>U</td>\n",
       "    </tr>\n",
       "    <tr>\n",
       "      <th>2998</th>\n",
       "      <td>flygirlbri</td>\n",
       "      <td>1587729249</td>\n",
       "      <td>1587700449</td>\n",
       "      <td>https://www.reddit.com/r/abuse/comments/g77247...</td>\n",
       "      <td>I am so sorry you are dealing with this. I'm j...</td>\n",
       "      <td>So I just logged on to reddit this morning bec...</td>\n",
       "      <td>1</td>\n",
       "      <td>1.0</td>\n",
       "      <td>1</td>\n",
       "      <td>U</td>\n",
       "    </tr>\n",
       "  </tbody>\n",
       "</table>\n",
       "<p>2317 rows × 10 columns</p>\n",
       "</div>"
      ],
      "text/plain": [
       "                 author  created_utc     created  \\\n",
       "0     undergroundagent2   1597591161  1597562361   \n",
       "1      Maniacalmind0000   1597584684  1597555884   \n",
       "2        blackoutjason1   1597584355  1597555555   \n",
       "5     playingintheocean   1597571289  1597542489   \n",
       "6     playingintheocean   1597571111  1597542311   \n",
       "...                 ...          ...         ...   \n",
       "2990      throwawaycp97   1587751168  1587722368   \n",
       "2992    morganpaige7116   1587742778  1587713978   \n",
       "2996       RoastbeeHead   1587734116  1587705316   \n",
       "2997  HugoCaldeira19902   1587733732  1587704932   \n",
       "2998         flygirlbri   1587729249  1587700449   \n",
       "\n",
       "                                                    url  \\\n",
       "0     https://www.reddit.com/r/abuse/comments/iau3kh...   \n",
       "1     https://www.reddit.com/r/abuse/comments/iasdhp...   \n",
       "2     https://www.reddit.com/r/abuse/comments/iasavg...   \n",
       "5     https://www.reddit.com/r/abuse/comments/iapph8...   \n",
       "6     https://www.reddit.com/r/abuse/comments/iapoda...   \n",
       "...                                                 ...   \n",
       "2990  https://www.reddit.com/r/abuse/comments/g7d5z6...   \n",
       "2992  https://www.reddit.com/r/abuse/comments/g7akkl...   \n",
       "2996  https://www.reddit.com/r/abuse/comments/g7869t...   \n",
       "2997  https://www.reddit.com/r/abuse/comments/g782uu...   \n",
       "2998  https://www.reddit.com/r/abuse/comments/g77247...   \n",
       "\n",
       "                                               selftext  \\\n",
       "0      Have you or someone you know been a victim to...   \n",
       "1     So I've been with my husband for three years a...   \n",
       "2     Did anyone else after different types of abuse...   \n",
       "5     I have been suffering abuse for 10+ years. I'm...   \n",
       "6     I have been suffering abuse for 10+ years. I'm...   \n",
       "...                                                 ...   \n",
       "2990   married a guy who I thought was the love of m...   \n",
       "2992  My child's (2M) father (23M) is extremely toxi...   \n",
       "2996  Are there any agencies - other than CPS or the...   \n",
       "2997  so my online friend adelia having really a tra...   \n",
       "2998  I am so sorry you are dealing with this. I'm j...   \n",
       "\n",
       "                                                  title  tag_loyd  tag_jerome  \\\n",
       "0                         join the underground railroad         0         0.0   \n",
       "1                             I don‚Äôt know what to do         1         1.0   \n",
       "2                       Imagining and Fearing the Worst         1         1.0   \n",
       "5     Advice for talking someone out of their abusiv...         1         1.0   \n",
       "6     Advice for helping someone out of their abusiv...         1         1.0   \n",
       "...                                                 ...       ...         ...   \n",
       "2990                         Giving your all to someone         1         1.0   \n",
       "2992                   My child‚Äôs father is dangerous         1         1.0   \n",
       "2996  Who to call for a welfare check on a family th...         1         1.0   \n",
       "2997          my online friend is having a tragedy life         1         1.0   \n",
       "2998  So I just logged on to reddit this morning bec...         1         1.0   \n",
       "\n",
       "      tag_mer final  \n",
       "0           0     W  \n",
       "1           1     U  \n",
       "2           1     U  \n",
       "5           1     U  \n",
       "6           1     U  \n",
       "...       ...   ...  \n",
       "2990        1     U  \n",
       "2992        1     U  \n",
       "2996        1     U  \n",
       "2997        1     U  \n",
       "2998        1     U  \n",
       "\n",
       "[2317 rows x 10 columns]"
      ]
     },
     "execution_count": 3,
     "metadata": {},
     "output_type": "execute_result"
    }
   ],
   "source": [
    "df"
   ]
  },
  {
   "cell_type": "code",
   "execution_count": 5,
   "metadata": {},
   "outputs": [
    {
     "data": {
      "text/plain": [
       "1    2233\n",
       "0      84\n",
       "Name: tag_loyd, dtype: int64"
      ]
     },
     "execution_count": 5,
     "metadata": {},
     "output_type": "execute_result"
    }
   ],
   "source": [
    "df.tag_loyd.value_counts()"
   ]
  },
  {
   "cell_type": "code",
   "execution_count": 6,
   "metadata": {},
   "outputs": [
    {
     "data": {
      "text/plain": [
       "1.0    2234\n",
       "0.0      76\n",
       "Name: tag_jerome, dtype: int64"
      ]
     },
     "execution_count": 6,
     "metadata": {},
     "output_type": "execute_result"
    }
   ],
   "source": [
    "df.tag_jerome.value_counts()"
   ]
  },
  {
   "cell_type": "code",
   "execution_count": 7,
   "metadata": {},
   "outputs": [
    {
     "data": {
      "text/plain": [
       "1    2243\n",
       "0      74\n",
       "Name: tag_mer, dtype: int64"
      ]
     },
     "execution_count": 7,
     "metadata": {},
     "output_type": "execute_result"
    }
   ],
   "source": [
    "df.tag_mer.value_counts()"
   ]
  },
  {
   "cell_type": "code",
   "execution_count": 8,
   "metadata": {},
   "outputs": [
    {
     "data": {
      "text/plain": [
       "U    2246\n",
       "W      71\n",
       "Name: final, dtype: int64"
      ]
     },
     "execution_count": 8,
     "metadata": {},
     "output_type": "execute_result"
    }
   ],
   "source": [
    "df.final.value_counts()"
   ]
  },
  {
   "cell_type": "code",
   "execution_count": 1,
   "metadata": {},
   "outputs": [],
   "source": [
    "import pandas as pd"
   ]
  },
  {
   "cell_type": "code",
   "execution_count": null,
   "metadata": {},
   "outputs": [],
   "source": [
    "df = pd.read"
   ]
  }
 ],
 "metadata": {
  "kernelspec": {
   "display_name": "Python 3",
   "language": "python",
   "name": "python3"
  },
  "language_info": {
   "codemirror_mode": {
    "name": "ipython",
    "version": 3
   },
   "file_extension": ".py",
   "mimetype": "text/x-python",
   "name": "python",
   "nbconvert_exporter": "python",
   "pygments_lexer": "ipython3",
   "version": "3.9.1"
  }
 },
 "nbformat": 4,
 "nbformat_minor": 4
}
