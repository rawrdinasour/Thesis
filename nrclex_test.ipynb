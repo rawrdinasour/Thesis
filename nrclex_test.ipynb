{
 "cells": [
  {
   "cell_type": "code",
   "execution_count": 1,
   "metadata": {},
   "outputs": [],
   "source": [
    "from nrclex import NRCLex"
   ]
  },
  {
   "cell_type": "code",
   "execution_count": 139,
   "metadata": {},
   "outputs": [],
   "source": [
    "test1 = \"I am sad.\""
   ]
  },
  {
   "cell_type": "code",
   "execution_count": null,
   "metadata": {},
   "outputs": [],
   "source": []
  },
  {
   "cell_type": "code",
   "execution_count": 140,
   "metadata": {},
   "outputs": [],
   "source": [
    "def get_frequencies(text):\n",
    "    text_object = NRCLex(text)\n",
    "    raw_scores = text_object.raw_emotion_scores\n",
    "    \n",
    "    emotion_total = 0\n",
    "    sentiment_total = 0\n",
    "    emotions = {}\n",
    "    sentiments = {}\n",
    "    \n",
    "    for key, value in raw_scores.items():\n",
    "        if (key != \"positive\" and key != \"negative\"):\n",
    "            emotion_total += value\n",
    "        else:\n",
    "            sentiment_total += value\n",
    "    \n",
    "\n",
    "    for key, value in raw_scores.items():\n",
    "        if (key != \"positive\" and key != \"negative\"):\n",
    "            emotions[key] = value/emotion_total\n",
    "        else:\n",
    "            sentiments[key] = value/sentiment_total\n",
    "        \n",
    "    return {\"emotions\": emotions, \"sentiments\": sentiments}"
   ]
  },
  {
   "cell_type": "code",
   "execution_count": 141,
   "metadata": {},
   "outputs": [
    {
     "data": {
      "text/plain": [
       "{'emotions': {'fear': 0.5, 'sadness': 0.5}, 'sentiments': {'negative': 1.0}}"
      ]
     },
     "execution_count": 141,
     "metadata": {},
     "output_type": "execute_result"
    }
   ],
   "source": [
    "get_frequencies(\"I want to die.\")"
   ]
  },
  {
   "cell_type": "code",
   "execution_count": null,
   "metadata": {},
   "outputs": [],
   "source": []
  },
  {
   "cell_type": "code",
   "execution_count": null,
   "metadata": {},
   "outputs": [],
   "source": []
  }
 ],
 "metadata": {
  "kernelspec": {
   "display_name": "Python 3",
   "language": "python",
   "name": "python3"
  },
  "language_info": {
   "codemirror_mode": {
    "name": "ipython",
    "version": 3
   },
   "file_extension": ".py",
   "mimetype": "text/x-python",
   "name": "python",
   "nbconvert_exporter": "python",
   "pygments_lexer": "ipython3",
   "version": "3.9.1"
  }
 },
 "nbformat": 4,
 "nbformat_minor": 4
}
